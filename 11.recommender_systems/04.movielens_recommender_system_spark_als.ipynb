{
 "cells": [
  {
   "cell_type": "markdown",
   "metadata": {},
   "source": [
    "# Recommender systems"
   ]
  },
  {
   "cell_type": "markdown",
   "metadata": {},
   "source": [
    "## Movielens 100k dataset"
   ]
  },
  {
   "cell_type": "markdown",
   "metadata": {},
   "source": [
    "### Caricamento librerie"
   ]
  },
  {
   "cell_type": "code",
   "execution_count": 1,
   "metadata": {},
   "outputs": [],
   "source": [
    "from pyspark.sql import SparkSession\n",
    "from pyspark.ml.recommendation import ALS\n",
    "from pyspark.ml.evaluation import RegressionEvaluator"
   ]
  },
  {
   "cell_type": "markdown",
   "metadata": {},
   "source": [
    "### Avvio sessione Spark"
   ]
  },
  {
   "cell_type": "code",
   "execution_count": 2,
   "metadata": {},
   "outputs": [],
   "source": [
    "spark = SparkSession.builder.master(\"local[*]\").getOrCreate()"
   ]
  },
  {
   "cell_type": "markdown",
   "metadata": {},
   "source": [
    "### Caricamento csv"
   ]
  },
  {
   "cell_type": "code",
   "execution_count": 3,
   "metadata": {},
   "outputs": [],
   "source": [
    "df = spark.read.csv(\"data/ratings.csv\", sep=\",\", header=True, inferSchema=True)"
   ]
  },
  {
   "cell_type": "code",
   "execution_count": 4,
   "metadata": {},
   "outputs": [
    {
     "name": "stdout",
     "output_type": "stream",
     "text": [
      "+------+-------+------+---------+\n",
      "|userId|movieId|rating|timestamp|\n",
      "+------+-------+------+---------+\n",
      "|     1|      1|   4.0|964982703|\n",
      "|     1|      3|   4.0|964981247|\n",
      "|     1|      6|   4.0|964982224|\n",
      "|     1|     47|   5.0|964983815|\n",
      "|     1|     50|   5.0|964982931|\n",
      "|     1|     70|   3.0|964982400|\n",
      "|     1|    101|   5.0|964980868|\n",
      "|     1|    110|   4.0|964982176|\n",
      "|     1|    151|   5.0|964984041|\n",
      "|     1|    157|   5.0|964984100|\n",
      "|     1|    163|   5.0|964983650|\n",
      "|     1|    216|   5.0|964981208|\n",
      "|     1|    223|   3.0|964980985|\n",
      "|     1|    231|   5.0|964981179|\n",
      "|     1|    235|   4.0|964980908|\n",
      "|     1|    260|   5.0|964981680|\n",
      "|     1|    296|   3.0|964982967|\n",
      "|     1|    316|   3.0|964982310|\n",
      "|     1|    333|   5.0|964981179|\n",
      "|     1|    349|   4.0|964982563|\n",
      "+------+-------+------+---------+\n",
      "only showing top 20 rows\n",
      "\n"
     ]
    }
   ],
   "source": [
    "df.show()"
   ]
  },
  {
   "cell_type": "markdown",
   "metadata": {},
   "source": [
    "### Visualizzazione schema dataset\n",
    "* user -> integer\n",
    "* item -> integer\n",
    "* rating -> double"
   ]
  },
  {
   "cell_type": "code",
   "execution_count": 5,
   "metadata": {
    "scrolled": true
   },
   "outputs": [
    {
     "name": "stdout",
     "output_type": "stream",
     "text": [
      "root\n",
      " |-- userId: integer (nullable = true)\n",
      " |-- movieId: integer (nullable = true)\n",
      " |-- rating: double (nullable = true)\n",
      " |-- timestamp: integer (nullable = true)\n",
      "\n"
     ]
    }
   ],
   "source": [
    "df.printSchema()"
   ]
  },
  {
   "cell_type": "markdown",
   "metadata": {},
   "source": [
    "### Divisione dataset in training e test set"
   ]
  },
  {
   "cell_type": "code",
   "execution_count": 6,
   "metadata": {},
   "outputs": [],
   "source": [
    "training, test = df.randomSplit(weights=[0.8, 0.2], seed=42)"
   ]
  },
  {
   "cell_type": "markdown",
   "metadata": {},
   "source": [
    "### Creazione del modello ALS e fit sui dati di training\n",
    "* paper: https://www.researchgate.net/publication/220788980_Large-Scale_Parallel_Collaborative_Filtering_for_the_Netflix_Prize\n",
    "* documentazione: https://spark.apache.org/docs/2.2.0/api/python/pyspark.ml.html#pyspark.ml.recommendation.ALS\n",
    "* codice sorgente: https://spark.apache.org/docs/2.2.0/api/python/_modules/pyspark/ml/recommendation.html#ALS\n",
    "* tuning degli iperparametri: https://gist.github.com/KevinLiao159/9f69049d6d3d8a096c0ea08dbc29591b#file-tune_als-py"
   ]
  },
  {
   "cell_type": "code",
   "execution_count": 7,
   "metadata": {},
   "outputs": [],
   "source": [
    "# impostando il parametro implicitPrefs=True è possibile effettuare previsioni nei casi in cui le valutazioni\n",
    "# sono incluse in un intervallo tra 0 ed 1 (ovviamente la metrica di riferimento non sarà più il rmse)\n",
    "als = ALS(userCol=\"userId\", itemCol=\"movieId\", ratingCol=\"rating\", coldStartStrategy=\"drop\")\n",
    "model = als.fit(training)"
   ]
  },
  {
   "cell_type": "markdown",
   "metadata": {},
   "source": [
    "### Previsione sui dati di test"
   ]
  },
  {
   "cell_type": "code",
   "execution_count": 8,
   "metadata": {},
   "outputs": [
    {
     "name": "stdout",
     "output_type": "stream",
     "text": [
      "+------+-------+------+----------+----------+\n",
      "|userId|movieId|rating| timestamp|prediction|\n",
      "+------+-------+------+----------+----------+\n",
      "|   133|    471|   4.0| 843491793| 2.3973393|\n",
      "|   599|    471|   2.5|1498518822| 2.2770236|\n",
      "|   387|    471|   3.0|1139047519|  2.641001|\n",
      "|   520|    471|   5.0|1326609921| 3.7206843|\n",
      "|   287|    471|   4.5|1110231536| 2.1928751|\n",
      "|   469|    471|   5.0| 965425364| 3.0696914|\n",
      "|   414|    471|   5.0| 961514069| 3.1914182|\n",
      "|   260|    471|   4.5|1109409455| 3.0017877|\n",
      "|   373|    471|   5.0| 846830388| 2.6672652|\n",
      "|   357|    471|   3.5|1348627082|  3.872034|\n",
      "|   492|    833|   4.0| 863976674| 2.8625958|\n",
      "|   463|   1088|   3.5|1145460096| 3.1891673|\n",
      "|    41|   1088|   1.5|1458939142|   2.90814|\n",
      "|   594|   1088|   4.5|1109035643|  4.220158|\n",
      "|   391|   1088|   1.0|1030824424|  3.216228|\n",
      "|    10|   1088|   3.0|1455619275|  3.429026|\n",
      "|   414|   1088|   3.0| 961514273| 3.4413023|\n",
      "|    68|   1088|   3.5|1158534614| 3.3752687|\n",
      "|    19|   1238|   3.0| 965705784| 3.0479841|\n",
      "|   156|   1238|   4.0| 946799272|  4.082371|\n",
      "+------+-------+------+----------+----------+\n",
      "only showing top 20 rows\n",
      "\n"
     ]
    }
   ],
   "source": [
    "predictions = model.transform(test)\n",
    "predictions.show()"
   ]
  },
  {
   "cell_type": "markdown",
   "metadata": {},
   "source": [
    "### Valutazione dei risultati sui dati di test"
   ]
  },
  {
   "cell_type": "code",
   "execution_count": 9,
   "metadata": {},
   "outputs": [],
   "source": [
    "evaluator = RegressionEvaluator(metricName=\"rmse\", labelCol=\"rating\", predictionCol=\"prediction\")"
   ]
  },
  {
   "cell_type": "code",
   "execution_count": 10,
   "metadata": {},
   "outputs": [
    {
     "data": {
      "text/plain": [
       "0.8851835186708817"
      ]
     },
     "execution_count": 10,
     "metadata": {},
     "output_type": "execute_result"
    }
   ],
   "source": [
    "rmse = evaluator.evaluate(predictions)\n",
    "rmse"
   ]
  },
  {
   "cell_type": "markdown",
   "metadata": {},
   "source": [
    "### Generazione di 10 raccomandazioni di film per ogni utente"
   ]
  },
  {
   "cell_type": "code",
   "execution_count": 11,
   "metadata": {
    "scrolled": false
   },
   "outputs": [
    {
     "name": "stdout",
     "output_type": "stream",
     "text": [
      "+------+--------------------+\n",
      "|userId|     recommendations|\n",
      "+------+--------------------+\n",
      "|   471|[[26326, 4.760275...|\n",
      "|   463|[[7842, 5.078032]...|\n",
      "|   496|[[51931, 4.832078...|\n",
      "|   148|[[98491, 4.695774...|\n",
      "|   540|[[69524, 5.145454...|\n",
      "|   392|[[166534, 5.30136...|\n",
      "|   243|[[33834, 5.870501...|\n",
      "|    31|[[33649, 5.233990...|\n",
      "|   516|[[4429, 4.843769]...|\n",
      "|   580|[[141718, 4.91951...|\n",
      "|   251|[[3925, 5.719379]...|\n",
      "|   451|[[177593, 5.23877...|\n",
      "|    85|[[51931, 5.444975...|\n",
      "|   137|[[6650, 4.6907825...|\n",
      "|    65|[[3925, 4.7745056...|\n",
      "|   458|[[932, 5.252403],...|\n",
      "|   481|[[3451, 4.6622014...|\n",
      "|    53|[[33649, 6.738617...|\n",
      "|   255|[[33834, 6.289697...|\n",
      "|   588|[[96004, 4.825836...|\n",
      "+------+--------------------+\n",
      "only showing top 20 rows\n",
      "\n"
     ]
    }
   ],
   "source": [
    "user_recs = model.recommendForAllUsers(10)\n",
    "user_recs.show()"
   ]
  },
  {
   "cell_type": "markdown",
   "metadata": {},
   "source": [
    ">### Conversione dei risultati in dataframe pandas"
   ]
  },
  {
   "cell_type": "code",
   "execution_count": 12,
   "metadata": {},
   "outputs": [
    {
     "data": {
      "text/html": [
       "<div>\n",
       "<style scoped>\n",
       "    .dataframe tbody tr th:only-of-type {\n",
       "        vertical-align: middle;\n",
       "    }\n",
       "\n",
       "    .dataframe tbody tr th {\n",
       "        vertical-align: top;\n",
       "    }\n",
       "\n",
       "    .dataframe thead th {\n",
       "        text-align: right;\n",
       "    }\n",
       "</style>\n",
       "<table border=\"1\" class=\"dataframe\">\n",
       "  <thead>\n",
       "    <tr style=\"text-align: right;\">\n",
       "      <th></th>\n",
       "      <th>userId</th>\n",
       "      <th>recommendations</th>\n",
       "    </tr>\n",
       "  </thead>\n",
       "  <tbody>\n",
       "    <tr>\n",
       "      <th>0</th>\n",
       "      <td>471</td>\n",
       "      <td>[(26326, 4.760274887084961), (945, 4.674196243...</td>\n",
       "    </tr>\n",
       "    <tr>\n",
       "      <th>1</th>\n",
       "      <td>463</td>\n",
       "      <td>[(7842, 5.07803201675415), (171495, 4.84267044...</td>\n",
       "    </tr>\n",
       "    <tr>\n",
       "      <th>2</th>\n",
       "      <td>496</td>\n",
       "      <td>[(51931, 4.832077980041504), (3473, 4.73790550...</td>\n",
       "    </tr>\n",
       "    <tr>\n",
       "      <th>3</th>\n",
       "      <td>148</td>\n",
       "      <td>[(98491, 4.695774078369141), (5666, 4.61504220...</td>\n",
       "    </tr>\n",
       "    <tr>\n",
       "      <th>4</th>\n",
       "      <td>540</td>\n",
       "      <td>[(69524, 5.145453929901123), (28, 5.0389614105...</td>\n",
       "    </tr>\n",
       "  </tbody>\n",
       "</table>\n",
       "</div>"
      ],
      "text/plain": [
       "   userId                                    recommendations\n",
       "0     471  [(26326, 4.760274887084961), (945, 4.674196243...\n",
       "1     463  [(7842, 5.07803201675415), (171495, 4.84267044...\n",
       "2     496  [(51931, 4.832077980041504), (3473, 4.73790550...\n",
       "3     148  [(98491, 4.695774078369141), (5666, 4.61504220...\n",
       "4     540  [(69524, 5.145453929901123), (28, 5.0389614105..."
      ]
     },
     "execution_count": 12,
     "metadata": {},
     "output_type": "execute_result"
    }
   ],
   "source": [
    "df_user_recs = user_recs.toPandas()\n",
    "df_user_recs.head()"
   ]
  },
  {
   "cell_type": "markdown",
   "metadata": {},
   "source": [
    "### Generazione di 10 raccomandazioni di utenti per ogni film"
   ]
  },
  {
   "cell_type": "code",
   "execution_count": 13,
   "metadata": {},
   "outputs": [
    {
     "name": "stdout",
     "output_type": "stream",
     "text": [
      "+-------+--------------------+\n",
      "|movieId|     recommendations|\n",
      "+-------+--------------------+\n",
      "|   1580|[[53, 5.071892], ...|\n",
      "|   4900|[[53, 4.7231035],...|\n",
      "|   5300|[[53, 4.1715555],...|\n",
      "|   6620|[[236, 4.8972793]...|\n",
      "|   7340|[[413, 4.6364503]...|\n",
      "|  32460|[[53, 5.598545], ...|\n",
      "|  54190|[[53, 5.5879984],...|\n",
      "|    471|[[43, 5.113896], ...|\n",
      "|   1591|[[53, 4.0478888],...|\n",
      "| 140541|[[576, 4.386676],...|\n",
      "|   1342|[[373, 3.9129126]...|\n",
      "|   2122|[[295, 4.6826873]...|\n",
      "|   2142|[[99, 3.7577298],...|\n",
      "|   7982|[[547, 5.1920986]...|\n",
      "|  44022|[[543, 4.892355],...|\n",
      "| 141422|[[99, 2.9341936],...|\n",
      "| 144522|[[53, 2.913804], ...|\n",
      "|    833|[[461, 3.4337633]...|\n",
      "|   5803|[[53, 4.141196], ...|\n",
      "|   7833|[[393, 4.143931],...|\n",
      "+-------+--------------------+\n",
      "only showing top 20 rows\n",
      "\n"
     ]
    }
   ],
   "source": [
    "movie_recs = model.recommendForAllItems(10)\n",
    "movie_recs.show()"
   ]
  },
  {
   "cell_type": "markdown",
   "metadata": {},
   "source": [
    ">### Conversione dei risultati in dataframe pandas"
   ]
  },
  {
   "cell_type": "code",
   "execution_count": 14,
   "metadata": {},
   "outputs": [
    {
     "data": {
      "text/html": [
       "<div>\n",
       "<style scoped>\n",
       "    .dataframe tbody tr th:only-of-type {\n",
       "        vertical-align: middle;\n",
       "    }\n",
       "\n",
       "    .dataframe tbody tr th {\n",
       "        vertical-align: top;\n",
       "    }\n",
       "\n",
       "    .dataframe thead th {\n",
       "        text-align: right;\n",
       "    }\n",
       "</style>\n",
       "<table border=\"1\" class=\"dataframe\">\n",
       "  <thead>\n",
       "    <tr style=\"text-align: right;\">\n",
       "      <th></th>\n",
       "      <th>movieId</th>\n",
       "      <th>recommendations</th>\n",
       "    </tr>\n",
       "  </thead>\n",
       "  <tbody>\n",
       "    <tr>\n",
       "      <th>0</th>\n",
       "      <td>1580</td>\n",
       "      <td>[(53, 5.071891784667969), (475, 4.370511531829...</td>\n",
       "    </tr>\n",
       "    <tr>\n",
       "      <th>1</th>\n",
       "      <td>4900</td>\n",
       "      <td>[(53, 4.7231035232543945), (154, 4.53876638412...</td>\n",
       "    </tr>\n",
       "    <tr>\n",
       "      <th>2</th>\n",
       "      <td>5300</td>\n",
       "      <td>[(53, 4.171555519104004), (191, 4.139414310455...</td>\n",
       "    </tr>\n",
       "    <tr>\n",
       "      <th>3</th>\n",
       "      <td>6620</td>\n",
       "      <td>[(236, 4.897279262542725), (53, 4.887851238250...</td>\n",
       "    </tr>\n",
       "    <tr>\n",
       "      <th>4</th>\n",
       "      <td>7340</td>\n",
       "      <td>[(413, 4.636450290679932), (53, 4.115792751312...</td>\n",
       "    </tr>\n",
       "  </tbody>\n",
       "</table>\n",
       "</div>"
      ],
      "text/plain": [
       "   movieId                                    recommendations\n",
       "0     1580  [(53, 5.071891784667969), (475, 4.370511531829...\n",
       "1     4900  [(53, 4.7231035232543945), (154, 4.53876638412...\n",
       "2     5300  [(53, 4.171555519104004), (191, 4.139414310455...\n",
       "3     6620  [(236, 4.897279262542725), (53, 4.887851238250...\n",
       "4     7340  [(413, 4.636450290679932), (53, 4.115792751312..."
      ]
     },
     "execution_count": 14,
     "metadata": {},
     "output_type": "execute_result"
    }
   ],
   "source": [
    "df_movie_recs = movie_recs.toPandas()\n",
    "df_movie_recs.head()"
   ]
  },
  {
   "cell_type": "markdown",
   "metadata": {},
   "source": [
    "### Generazione di 10 raccomandazioni per degli utenti specifici"
   ]
  },
  {
   "cell_type": "code",
   "execution_count": 15,
   "metadata": {},
   "outputs": [
    {
     "name": "stdout",
     "output_type": "stream",
     "text": [
      "+------+--------------------+\n",
      "|userId|     recommendations|\n",
      "+------+--------------------+\n",
      "|   300|[[26326, 5.308459...|\n",
      "|     1|[[25771, 5.681392...|\n",
      "|    20|[[1262, 5.473758]...|\n",
      "+------+--------------------+\n",
      "\n"
     ]
    }
   ],
   "source": [
    "users_list = (1, 20, 300)\n",
    "users = df.select(\"userId\").filter(f\"userId in {users_list}\")\n",
    "user_sub_recs = model.recommendForUserSubset(users, 10)\n",
    "user_sub_recs.show()"
   ]
  },
  {
   "cell_type": "markdown",
   "metadata": {},
   "source": [
    "### Generazione di 10 raccomandazioni per dei film specifici"
   ]
  },
  {
   "cell_type": "code",
   "execution_count": 16,
   "metadata": {},
   "outputs": [
    {
     "name": "stdout",
     "output_type": "stream",
     "text": [
      "+-------+--------------------+\n",
      "|movieId|     recommendations|\n",
      "+-------+--------------------+\n",
      "|    300|[[53, 4.994001], ...|\n",
      "|      1|[[53, 5.289158], ...|\n",
      "|     20|[[53, 4.2887683],...|\n",
      "+-------+--------------------+\n",
      "\n"
     ]
    }
   ],
   "source": [
    "movies_list = (1, 20, 300)\n",
    "movies = df.select(\"movieId\").filter(f\"movieId in {movies_list}\")\n",
    "movie_sub_recs = model.recommendForItemSubset(movies, 10)\n",
    "movie_sub_recs.show()"
   ]
  },
  {
   "cell_type": "code",
   "execution_count": null,
   "metadata": {},
   "outputs": [],
   "source": []
  }
 ],
 "metadata": {
  "kernelspec": {
   "display_name": "Python 3",
   "language": "python",
   "name": "python3"
  },
  "language_info": {
   "codemirror_mode": {
    "name": "ipython",
    "version": 3
   },
   "file_extension": ".py",
   "mimetype": "text/x-python",
   "name": "python",
   "nbconvert_exporter": "python",
   "pygments_lexer": "ipython3",
   "version": "3.6.7"
  }
 },
 "nbformat": 4,
 "nbformat_minor": 2
}
